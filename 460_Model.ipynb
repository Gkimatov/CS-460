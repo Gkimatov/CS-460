{
  "nbformat": 4,
  "nbformat_minor": 5,
  "metadata": {
    "kernelspec": {
      "display_name": "Python 3",
      "language": "python",
      "name": "python3"
    },
    "language_info": {
      "codemirror_mode": {
        "name": "ipython",
        "version": 3
      },
      "file_extension": ".py",
      "mimetype": "text/x-python",
      "name": "python",
      "nbconvert_exporter": "python",
      "pygments_lexer": "ipython3",
      "version": "3.6.13"
    },
    "colab": {
      "name": "460_Model.ipynb",
      "provenance": [],
      "collapsed_sections": [],
      "include_colab_link": true
    }
  },
  "cells": [
    {
      "cell_type": "markdown",
      "metadata": {
        "id": "view-in-github",
        "colab_type": "text"
      },
      "source": [
        "<a href=\"https://colab.research.google.com/github/Gkimatov/CS-460/blob/main/460_Model.ipynb\" target=\"_parent\"><img src=\"https://colab.research.google.com/assets/colab-badge.svg\" alt=\"Open In Colab\"/></a>"
      ]
    },
    {
      "cell_type": "code",
      "metadata": {
        "id": "346a54ac"
      },
      "source": [
        "from datetime import datetime as dt\n",
        "import numpy as np \n",
        "import pandas as pd\n",
        "import seaborn as sns\n",
        "import matplotlib.pyplot as plt\n",
        "import math"
      ],
      "id": "346a54ac",
      "execution_count": null,
      "outputs": []
    },
    {
      "cell_type": "code",
      "metadata": {
        "id": "Ha3dpNvQiYU_",
        "outputId": "81953928-a72e-4067-84aa-a0371f4d3fce",
        "colab": {
          "base_uri": "https://localhost:8080/"
        }
      },
      "source": [
        "#this command will download the original file\n",
        "!gdown --id 1es5kvNIhxMnw0nSFrWAZskxiVECzkvkG"
      ],
      "id": "Ha3dpNvQiYU_",
      "execution_count": null,
      "outputs": [
        {
          "output_type": "stream",
          "name": "stdout",
          "text": [
            "Downloading...\n",
            "From: https://drive.google.com/uc?id=1es5kvNIhxMnw0nSFrWAZskxiVECzkvkG\n",
            "To: /content/NYC_data_clean.csv\n",
            "100% 278M/278M [00:02<00:00, 120MB/s]\n"
          ]
        }
      ]
    },
    {
      "cell_type": "code",
      "metadata": {
        "id": "8S_Ta2Sniceg",
        "outputId": "53824455-aecb-4c84-d1ca-8783d3ff8414",
        "colab": {
          "base_uri": "https://localhost:8080/"
        }
      },
      "source": [
        " #this command will download the unemployment data file in NYC\n",
        " !gdown --id 19enx0upJXRlvQYCPzg5zqgG-AfKrgfQY"
      ],
      "id": "8S_Ta2Sniceg",
      "execution_count": null,
      "outputs": [
        {
          "output_type": "stream",
          "name": "stdout",
          "text": [
            "Downloading...\n",
            "From: https://drive.google.com/uc?id=19enx0upJXRlvQYCPzg5zqgG-AfKrgfQY\n",
            "To: /content/NYC_Unemployment.csv\n",
            "\r  0% 0.00/3.27k [00:00<?, ?B/s]\r100% 3.27k/3.27k [00:00<00:00, 5.22MB/s]\n"
          ]
        }
      ]
    },
    {
      "cell_type": "code",
      "source": [
        "#Importing the data\n",
        "\n",
        "df_un_clean=pd.read_csv('NYC_Unemployment.csv')\n",
        "df_clean=pd.read_csv('NYC_data_clean.csv')"
      ],
      "metadata": {
        "id": "LWRYulmjAP3d"
      },
      "id": "LWRYulmjAP3d",
      "execution_count": null,
      "outputs": []
    },
    {
      "cell_type": "code",
      "source": [
        "#Mapping the data values from object type to integer\n",
        "df_un_clean['Month'] = df_un_clean['Month'].map({ 'January': 1,\n",
        "                                                   'February': 2,\n",
        "                                                   'March': 3,\n",
        "                                                   'April': 4,\n",
        "                                                    'May':5,\n",
        "                                                     'June':6,\n",
        "                                                     'July':7,\n",
        "                                                     'August':8,\n",
        "                                                     'September':9,\n",
        "                                                     'October':10,\n",
        "                                                     'November':11,\n",
        "                                                     'December':12})\n",
        "#Dropping the first 12 rows because those are values from 2005\n",
        "#But we don't have arrest data from 2005 in our main dataset\n",
        "\n",
        "df_un_clean=df_un_clean.drop(range(0,12))\n",
        "\n",
        "#Converting the datatype from object to datetime\n",
        "df_clean['arrest_date'] = pd.to_datetime(df_clean['arrest_date'])\n",
        "\n",
        "#Extracting the year and month\n",
        "df_clean['arrest_date'] = df_clean['arrest_date'].dt.strftime('%Y-%m')\n",
        "\n",
        "#Counting the arrests based on individual month and year\n",
        "daily_arrests_month = df_clean['arrest_date'].value_counts().rename_axis('arrest_month').reset_index(name='arrest_count')\n",
        "\n",
        "#Sorting the values from 2006-01 to 2019-12\n",
        "daily_arrests_month=daily_arrests_month.sort_values(by='arrest_month',ascending=True)\n",
        "\n",
        "#Setting up the target values for the model\n",
        "Y=pd.DataFrame(daily_arrests_month['arrest_count'])\n",
        "Y.reset_index(drop=True,inplace=True)\n",
        "\n",
        "#Dropping the arrest_count column from daily_arrests_month dataframe because we dont need that\n",
        "#in the features\n",
        "daily_arrests_month.drop(['arrest_count'],inplace=True,axis=1)\n",
        "\n",
        "#Adding an extra column in the daily_arrests_month dataframe\n",
        "daily_arrests_month['Rate']=df_un_clean['Rate']\n",
        "\n",
        "#Selecting the features\n",
        "#Our features are Arrest year month and Unemployment Rate\n",
        "X=pd.DataFrame(daily_arrests_month)\n",
        "X.reset_index(drop=True,inplace=True)\n",
        "\n",
        "#Taking only year\n",
        "X['arrest_month']=daily_arrests_month['arrest_month']\n",
        "X['arrest_month']=pd.to_datetime(X['arrest_month'])\n",
        "X['arrest_month']=X['arrest_month'].dt.year\n",
        "\n",
        "#Filling up the null values with the last value\n",
        "X['Rate']=X['Rate'].fillna(method ='bfill')"
      ],
      "metadata": {
        "id": "M__XaDtQARxk"
      },
      "id": "M__XaDtQARxk",
      "execution_count": null,
      "outputs": []
    },
    {
      "cell_type": "markdown",
      "source": [
        "# Below the LinearRegression model will calculate the future crime rate based on year and unemployment rate."
      ],
      "metadata": {
        "id": "RAP6Ef3DAYUV"
      },
      "id": "RAP6Ef3DAYUV"
    },
    {
      "cell_type": "code",
      "source": [
        "from sklearn.linear_model import LinearRegression \n",
        "from sklearn.model_selection import train_test_split\n",
        "import warnings\n",
        "warnings.filterwarnings('ignore')\n",
        "\n",
        "#Creating a linear Regression Model\n",
        "model = LinearRegression()\n",
        "X_train, X_test, Y_train, Y_test = train_test_split(X, Y,test_size=0.20)\n",
        "model.fit(X_train, Y_train)\n",
        "prediction= model.predict(X_test)\n",
        "Acc=model.score(X_test, Y_test)\n",
        "print (\"Accuracy={0:.2f}\".format(Acc))"
      ],
      "metadata": {
        "id": "MCaxF3V-AZmn",
        "outputId": "1fbbb024-1576-4d82-d39e-daf1649df08a",
        "colab": {
          "base_uri": "https://localhost:8080/"
        }
      },
      "id": "MCaxF3V-AZmn",
      "execution_count": null,
      "outputs": [
        {
          "output_type": "stream",
          "name": "stdout",
          "text": [
            "Accuracy=0.60\n"
          ]
        }
      ]
    },
    {
      "cell_type": "code",
      "source": [
        "print('In the year of 2045, if the average unemployment rate of NYC is 88% then there will be',math.ceil(abs(model.predict([[2045,0.88]]))),'crime')\n",
        "\n",
        "print('In the year of 2045, if the average unemployment rate of NYC is 1% then there will be',math.ceil(abs(model.predict([[2045,0.01]]))),'crime')\n"
      ],
      "metadata": {
        "id": "AJBlefkNAeUc",
        "outputId": "babf223d-d9f7-486f-e182-85c9249a2bcc",
        "colab": {
          "base_uri": "https://localhost:8080/"
        }
      },
      "id": "AJBlefkNAeUc",
      "execution_count": null,
      "outputs": [
        {
          "output_type": "stream",
          "name": "stdout",
          "text": [
            "In the year of 2045, if the average unemployment rate of NYC is 88% then there will be 19553 crime\n",
            "In the year of 2045, if the average unemployment rate of NYC is 1% then there will be 4750 crime\n"
          ]
        }
      ]
    },
    {
      "cell_type": "markdown",
      "source": [
        "## So based on our model prediction, the crime rate will rise, if the unemployment rate rises."
      ],
      "metadata": {
        "id": "T93wyaEsAghc"
      },
      "id": "T93wyaEsAghc"
    },
    {
      "cell_type": "code",
      "source": [
        "fig = plt.figure()\n",
        "plt.scatter(Y_test,prediction)\n",
        "fig.suptitle('test vs prediction', fontsize=20)            \n",
        "plt.xlabel('Y_test', fontsize=18)                          \n",
        "plt.ylabel('prediction', fontsize=16)   "
      ],
      "metadata": {
        "id": "HwnHW1pJAhIa",
        "outputId": "1c65852e-973d-4635-81b3-45be4e5e6583",
        "colab": {
          "base_uri": "https://localhost:8080/",
          "height": 334
        }
      },
      "id": "HwnHW1pJAhIa",
      "execution_count": null,
      "outputs": [
        {
          "output_type": "execute_result",
          "data": {
            "text/plain": [
              "Text(0, 0.5, 'prediction')"
            ]
          },
          "metadata": {},
          "execution_count": 12
        },
        {
          "output_type": "display_data",
          "data": {
            "image/png": "[encoded data removed]",
            "text/plain": [
              "<Figure size 432x288 with 1 Axes>"
            ]
          },
          "metadata": {
            "needs_background": "light"
          }
        }
      ]
    }
  ]
}