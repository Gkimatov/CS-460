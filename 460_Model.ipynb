{
  "nbformat": 4,
  "nbformat_minor": 5,
  "metadata": {
    "kernelspec": {
      "display_name": "Python 3",
      "language": "python",
      "name": "python3"
    },
    "language_info": {
      "codemirror_mode": {
        "name": "ipython",
        "version": 3
      },
      "file_extension": ".py",
      "mimetype": "text/x-python",
      "name": "python",
      "nbconvert_exporter": "python",
      "pygments_lexer": "ipython3",
      "version": "3.6.13"
    },
    "colab": {
      "name": "460_Model.ipynb",
      "provenance": [],
      "collapsed_sections": [],
      "include_colab_link": true
    }
  },
  "cells": [
    {
      "cell_type": "markdown",
      "metadata": {
        "id": "view-in-github",
        "colab_type": "text"
      },
      "source": [
        "<a href=\"https://colab.research.google.com/github/Gkimatov/CS-460/blob/main/460_Model.ipynb\" target=\"_parent\"><img src=\"https://colab.research.google.com/assets/colab-badge.svg\" alt=\"Open In Colab\"/></a>"
      ]
    },
    {
      "cell_type": "code",
      "metadata": {
        "id": "346a54ac"
      },
      "source": [
        "from datetime import datetime as dt\n",
        "import numpy as np \n",
        "import pandas as pd\n",
        "import seaborn as sns\n",
        "import matplotlib.pyplot as plt\n",
        "import math"
      ],
      "id": "346a54ac",
      "execution_count": null,
      "outputs": []
    },
    {
      "cell_type": "code",
      "metadata": {
        "id": "Ha3dpNvQiYU_",
        "outputId": "f79a8a37-f34f-4814-92ba-e02d42318413",
        "colab": {
          "base_uri": "https://localhost:8080/"
        }
      },
      "source": [
        "#this command will download the original file\n",
        "!gdown --id 1es5kvNIhxMnw0nSFrWAZskxiVECzkvkG"
      ],
      "id": "Ha3dpNvQiYU_",
      "execution_count": null,
      "outputs": [
        {
          "output_type": "stream",
          "name": "stdout",
          "text": [
            "Downloading...\n",
            "From: https://drive.google.com/uc?id=1es5kvNIhxMnw0nSFrWAZskxiVECzkvkG\n",
            "To: /content/NYC_data_clean.csv\n",
            "100% 278M/278M [00:02<00:00, 132MB/s]\n"
          ]
        }
      ]
    },
    {
      "cell_type": "code",
      "metadata": {
        "id": "8S_Ta2Sniceg",
        "outputId": "39771be9-d50a-4177-fce0-97c8e504deaa",
        "colab": {
          "base_uri": "https://localhost:8080/"
        }
      },
      "source": [
        " #this command will download the unemployment data file in NYC\n",
        " !gdown --id 19enx0upJXRlvQYCPzg5zqgG-AfKrgfQY"
      ],
      "id": "8S_Ta2Sniceg",
      "execution_count": null,
      "outputs": [
        {
          "output_type": "stream",
          "name": "stdout",
          "text": [
            "Downloading...\n",
            "From: https://drive.google.com/uc?id=19enx0upJXRlvQYCPzg5zqgG-AfKrgfQY\n",
            "To: /content/NYC_Unemployment.csv\n",
            "\r  0% 0.00/3.27k [00:00<?, ?B/s]\r100% 3.27k/3.27k [00:00<00:00, 2.59MB/s]\n"
          ]
        }
      ]
    },
    {
      "cell_type": "code",
      "source": [
        "# this command will download the GDP data for the 5 counties in NYC\n",
        "!gdown --id 1Jvoy5Bcz2a44F1lO0ADm4yzKCCWZxqIj"
      ],
      "metadata": {
        "colab": {
          "base_uri": "https://localhost:8080/"
        },
        "id": "kVfEiTc94IxU",
        "outputId": "6b53e793-7b4f-4a7b-d385-11b16d8bc0c4"
      },
      "id": "kVfEiTc94IxU",
      "execution_count": 18,
      "outputs": [
        {
          "output_type": "stream",
          "name": "stdout",
          "text": [
            "Downloading...\n",
            "From: https://drive.google.com/uc?id=1Jvoy5Bcz2a44F1lO0ADm4yzKCCWZxqIj\n",
            "To: /content/gdp.csv\n",
            "\r  0% 0.00/1.88k [00:00<?, ?B/s]\r100% 1.88k/1.88k [00:00<00:00, 1.49MB/s]\n"
          ]
        }
      ]
    },
    {
      "cell_type": "code",
      "source": [
        "#Importing the data\n",
        "\n",
        "df_un_clean=pd.read_csv('NYC_Unemployment.csv')\n",
        "df_gdp_clean=pd.read_csv('gdp.csv')\n",
        "df_clean=pd.read_csv('NYC_data_clean.csv')"
      ],
      "metadata": {
        "id": "LWRYulmjAP3d"
      },
      "id": "LWRYulmjAP3d",
      "execution_count": 19,
      "outputs": []
    },
    {
      "cell_type": "markdown",
      "source": [
        "# Linear Regression by crime rate per year"
      ],
      "metadata": {
        "id": "D_fw7j38qmY0"
      },
      "id": "D_fw7j38qmY0"
    },
    {
      "cell_type": "code",
      "source": [
        "from sklearn.linear_model import LinearRegression \n",
        "from sklearn.model_selection import train_test_split\n",
        "from sklearn.metrics import mean_squared_error, r2_score\n",
        "import matplotlib.pyplot as plt"
      ],
      "metadata": {
        "id": "QaD_Q8LIqkNk"
      },
      "id": "QaD_Q8LIqkNk",
      "execution_count": 15,
      "outputs": []
    },
    {
      "cell_type": "code",
      "source": [
        "# make a dataframe to have crime rate per year (# of arrests / # NYC population) * 100000)\n",
        "nyc_pop = 8175000 # according to 2010 census\n",
        "per_100k = 100000\n",
        "\n",
        "yearly_crime_rate = (((arrest_year.value_counts(ascending=True))/nyc_pop)*per_100k).rename_axis('arrest_year').reset_index(name='arrest_count')\n",
        "yearly_crime_rate"
      ],
      "metadata": {
        "colab": {
          "base_uri": "https://localhost:8080/",
          "height": 226
        },
        "id": "y3FTFH0gqsmL",
        "outputId": "7faafa33-c1db-499c-a2f8-000917bb4047"
      },
      "id": "y3FTFH0gqsmL",
      "execution_count": 14,
      "outputs": [
        {
          "output_type": "error",
          "ename": "NameError",
          "evalue": "ignored",
          "traceback": [
            "\u001b[0;31m---------------------------------------------------------------------------\u001b[0m",
            "\u001b[0;31mNameError\u001b[0m                                 Traceback (most recent call last)",
            "\u001b[0;32m<ipython-input-14-a89903489ebf>\u001b[0m in \u001b[0;36m<module>\u001b[0;34m()\u001b[0m\n\u001b[1;32m      3\u001b[0m \u001b[0mper_100k\u001b[0m \u001b[0;34m=\u001b[0m \u001b[0;36m100000\u001b[0m\u001b[0;34m\u001b[0m\u001b[0;34m\u001b[0m\u001b[0m\n\u001b[1;32m      4\u001b[0m \u001b[0;34m\u001b[0m\u001b[0m\n\u001b[0;32m----> 5\u001b[0;31m \u001b[0myearly_crime_rate\u001b[0m \u001b[0;34m=\u001b[0m \u001b[0;34m(\u001b[0m\u001b[0;34m(\u001b[0m\u001b[0;34m(\u001b[0m\u001b[0marrest_year\u001b[0m\u001b[0;34m.\u001b[0m\u001b[0mvalue_counts\u001b[0m\u001b[0;34m(\u001b[0m\u001b[0mascending\u001b[0m\u001b[0;34m=\u001b[0m\u001b[0;32mTrue\u001b[0m\u001b[0;34m)\u001b[0m\u001b[0;34m)\u001b[0m\u001b[0;34m/\u001b[0m\u001b[0mnyc_pop\u001b[0m\u001b[0;34m)\u001b[0m\u001b[0;34m*\u001b[0m\u001b[0mper_100k\u001b[0m\u001b[0;34m)\u001b[0m\u001b[0;34m.\u001b[0m\u001b[0mrename_axis\u001b[0m\u001b[0;34m(\u001b[0m\u001b[0;34m'arrest_year'\u001b[0m\u001b[0;34m)\u001b[0m\u001b[0;34m.\u001b[0m\u001b[0mreset_index\u001b[0m\u001b[0;34m(\u001b[0m\u001b[0mname\u001b[0m\u001b[0;34m=\u001b[0m\u001b[0;34m'arrest_count'\u001b[0m\u001b[0;34m)\u001b[0m\u001b[0;34m\u001b[0m\u001b[0;34m\u001b[0m\u001b[0m\n\u001b[0m\u001b[1;32m      6\u001b[0m \u001b[0myearly_crime_rate\u001b[0m\u001b[0;34m\u001b[0m\u001b[0;34m\u001b[0m\u001b[0m\n",
            "\u001b[0;31mNameError\u001b[0m: name 'arrest_year' is not defined"
          ]
        }
      ]
    },
    {
      "cell_type": "code",
      "source": [
        "# get feature & target from dataframe\n",
        "feature = yearly_crime_rate[['arrest_year']]\n",
        "target = yearly_crime_rate[['arrest_count']]\n",
        "\n",
        "# split data into training & test data\n",
        "X_train, X_test, y_train, y_test = train_test_split(feature, target, test_size=0.25)"
      ],
      "metadata": {
        "id": "pA7d7sl-qv-g"
      },
      "id": "pA7d7sl-qv-g",
      "execution_count": null,
      "outputs": []
    },
    {
      "cell_type": "code",
      "source": [
        "reg = LinearRegression()\n",
        "\n",
        "reg.fit(X_train, y_train)\n",
        "\n",
        "y_pred = reg.predict(X_test)\n",
        "\n",
        "print('Coefficients: ', reg.coef_)\n",
        "print('Mean squared error: {}'.format(mean_squared_error(y_test, y_pred)))\n",
        "print('Coefficient of determination: {}'.format(r2_score(y_test, y_pred)))\n",
        "print(\"Score gotten from cross-validation:\",reg.score(X_test,y_test))\n",
        "\n",
        "plt.scatter(X_test,y_test, color='black')\n",
        "plt.plot(X_test, y_pred, color='blue', linewidth=3)\n",
        "\n",
        "plt.xticks(())\n",
        "plt.yticks(())\n",
        "\n",
        "plt.show()"
      ],
      "metadata": {
        "colab": {
          "base_uri": "https://localhost:8080/",
          "height": 320
        },
        "id": "kLnbvVZHq08w",
        "outputId": "39057ae0-954b-4399-d44d-cc08da051fb3"
      },
      "id": "kLnbvVZHq08w",
      "execution_count": null,
      "outputs": [
        {
          "output_type": "stream",
          "name": "stdout",
          "text": [
            "Coefficients:  [[-130.10793492]]\n",
            "Mean squared error: 33443.4335989199\n",
            "Coefficient of determination: 0.8296068736403752\n",
            "Score gotten from cross-validation: 0.8296068736403752\n"
          ]
        },
        {
          "output_type": "display_data",
          "data": {
            "image/png": "[encoded data removed]",
            "text/plain": [
              "<Figure size 432x288 with 1 Axes>"
            ]
          },
          "metadata": {}
        }
      ]
    },
    {
      "cell_type": "markdown",
      "source": [
        "# Impact of Economic Factors on Crime"
      ],
      "metadata": {
        "id": "Q0cEl1Ny4Wjp"
      },
      "id": "Q0cEl1Ny4Wjp"
    },
    {
      "cell_type": "markdown",
      "source": [
        "# GDP"
      ],
      "metadata": {
        "id": "19xiFrV148U6"
      },
      "id": "19xiFrV148U6"
    },
    {
      "cell_type": "code",
      "source": [
        "#Converting the datatype from object to datetime\n",
        "df_clean['arrest_date'] = pd.to_datetime(df_clean['arrest_date'])\n",
        "\n",
        "#Extracting the year and month\n",
        "df_clean['arrest_date'] = df_clean['arrest_date'].dt.strftime('%Y')\n",
        "\n",
        "#Counting the arrests based on individual month and year\n",
        "annual_arrests = df_clean['arrest_date'].value_counts().rename_axis('arrest_year').reset_index(name='arrest_count')\n",
        "\n",
        "#Sorting the values from 2006-01 to 2019-12\n",
        "annual_arrests=annual_arrests.sort_values(by='arrest_year',ascending=True)\n",
        "\n",
        "#Setting up the target values for the model\n",
        "Y=pd.DataFrame(annual_arrests['arrest_count'])\n",
        "Y['arrest_count']=Y['arrest_count'].tail(14)\n",
        "Y.reset_index(drop=True,inplace=True)\n",
        "\n",
        "#Dropping the arrest_count column from annual_arrests dataframe because we dont need that\n",
        "#in the features\n",
        "annual_arrests.drop(['arrest_count'],inplace=True,axis=1)\n",
        "\n",
        "#Adding an extra column in the annual_arrests dataframe\n",
        "annual_arrests['gdp_perc_change_from_prev_year']=df_gdp_clean['gdp_perc_change_from_prev_year']\n",
        "\n",
        "#Selecting the features\n",
        "#Our features are Arrest year month and Unemployment Rate\n",
        "X=pd.DataFrame(annual_arrests)\n",
        "X.reset_index(drop=True,inplace=True)\n",
        "\n",
        "#Taking only year\n",
        "X['arrest_year']=annual_arrests['arrest_year']\n",
        "X['arrest_year']=pd.to_datetime(X['arrest_year'])\n",
        "X['arrest_year']=X['arrest_year'].dt.year\n",
        "X['arrest_year']=X['arrest_year'].tail(14)\n",
        "\n",
        "#Filling up the null values with the last value\n",
        "X['gdp_perc_change_from_prev_year']=X['gdp_perc_change_from_prev_year'].fillna(method ='bfill')\n",
        "X['gdp_perc_change_from_prev_year']=X['gdp_perc_change_from_prev_year'].tail(14)"
      ],
      "metadata": {
        "id": "HB1x-J154Sc-"
      },
      "id": "HB1x-J154Sc-",
      "execution_count": 20,
      "outputs": []
    },
    {
      "cell_type": "markdown",
      "source": [
        "# The following linear regression model calculates the future crime rate based on year and annual percent change of GDP in NYC."
      ],
      "metadata": {
        "id": "iHWlnMv-4gwi"
      },
      "id": "iHWlnMv-4gwi"
    },
    {
      "cell_type": "code",
      "source": [
        "from sklearn.linear_model import LinearRegression \n",
        "from sklearn.model_selection import train_test_split\n",
        "import warnings\n",
        "warnings.filterwarnings('ignore')\n",
        "\n",
        "#Creating a linear Regression Model\n",
        "model = LinearRegression()\n",
        "X_train, X_test, Y_train, Y_test = train_test_split(X, Y,test_size=0.20)\n",
        "model.fit(X_train, Y_train)\n",
        "prediction= model.predict(X_test)\n",
        "Acc=model.score(X_test, Y_test)\n",
        "print (\"Accuracy={0:.2f}\".format(Acc))"
      ],
      "metadata": {
        "colab": {
          "base_uri": "https://localhost:8080/"
        },
        "id": "fSAYki7X4evs",
        "outputId": "0b1f1358-5d39-489b-fa87-62d1eaf010ca"
      },
      "id": "fSAYki7X4evs",
      "execution_count": 21,
      "outputs": [
        {
          "output_type": "stream",
          "name": "stdout",
          "text": [
            "Accuracy=0.63\n"
          ]
        }
      ]
    },
    {
      "cell_type": "code",
      "source": [
        "print('In 2045, if the average annual GDP percent change in NYC is +40%, then the regression predicts there will be',math.ceil(abs(model.predict([[2045,0.40]]))),'arrests that year')\n",
        "\n",
        "print('In 2045, if the average annual GDP percent change in NYC is +1%, then the regression predicts there will be',math.ceil(abs(model.predict([[2045,0.01]]))),'arrests that year')"
      ],
      "metadata": {
        "colab": {
          "base_uri": "https://localhost:8080/"
        },
        "id": "32dEQ9Rg4jpy",
        "outputId": "311b2c45-a352-4e36-d273-0139f7e2ec6d"
      },
      "id": "32dEQ9Rg4jpy",
      "execution_count": 22,
      "outputs": [
        {
          "output_type": "stream",
          "name": "stdout",
          "text": [
            "In 2045, if the average annual GDP percent change in NYC is +40%, then the regression predicts there will be 4769 arrests that year\n",
            "In 2045, if the average annual GDP percent change in NYC is +1%, then the regression predicts there will be 7452 arrests that year\n"
          ]
        }
      ]
    },
    {
      "cell_type": "markdown",
      "source": [
        "# The model predicts that as average annual GDP percent change in NYC increases, arrest count will decrease."
      ],
      "metadata": {
        "id": "84OmpBsn4oxY"
      },
      "id": "84OmpBsn4oxY"
    },
    {
      "cell_type": "code",
      "source": [
        "fig = plt.figure()\n",
        "plt.scatter(Y_test,prediction)\n",
        "fig.suptitle('test vs prediction', fontsize=20)            \n",
        "plt.xlabel('Y_test', fontsize=18)                          \n",
        "plt.ylabel('prediction', fontsize=16)  "
      ],
      "metadata": {
        "colab": {
          "base_uri": "https://localhost:8080/",
          "height": 334
        },
        "id": "B842qYnT4mNC",
        "outputId": "56d0d215-c76b-4b42-bcec-3b05290dc104"
      },
      "id": "B842qYnT4mNC",
      "execution_count": 23,
      "outputs": [
        {
          "output_type": "execute_result",
          "data": {
            "text/plain": [
              "Text(0, 0.5, 'prediction')"
            ]
          },
          "metadata": {},
          "execution_count": 23
        },
        {
          "output_type": "display_data",
          "data": {
            "image/png": "[encoded data removed]",
            "text/plain": [
              "<Figure size 432x288 with 1 Axes>"
            ]
          },
          "metadata": {
            "needs_background": "light"
          }
        }
      ]
    },
    {
      "cell_type": "markdown",
      "source": [
        "# Unemployment"
      ],
      "metadata": {
        "id": "t5-VR5sk4r2E"
      },
      "id": "t5-VR5sk4r2E"
    },
    {
      "cell_type": "code",
      "source": [
        "#Mapping the data values from object type to integer\n",
        "df_un_clean['Month'] = df_un_clean['Month'].map({ 'January': 1,\n",
        "                                                   'February': 2,\n",
        "                                                   'March': 3,\n",
        "                                                   'April': 4,\n",
        "                                                    'May':5,\n",
        "                                                     'June':6,\n",
        "                                                     'July':7,\n",
        "                                                     'August':8,\n",
        "                                                     'September':9,\n",
        "                                                     'October':10,\n",
        "                                                     'November':11,\n",
        "                                                     'December':12})\n",
        "#Dropping the first 12 rows because those are values from 2005\n",
        "#But we don't have arrest data from 2005 in our main dataset\n",
        "\n",
        "df_un_clean=df_un_clean.drop(range(0,12))\n",
        "\n",
        "#Converting the datatype from object to datetime\n",
        "df_clean['arrest_date'] = pd.to_datetime(df_clean['arrest_date'])\n",
        "\n",
        "#Extracting the year and month\n",
        "df_clean['arrest_date'] = df_clean['arrest_date'].dt.strftime('%Y-%m')\n",
        "\n",
        "#Counting the arrests based on individual month and year\n",
        "daily_arrests_month = df_clean['arrest_date'].value_counts().rename_axis('arrest_month').reset_index(name='arrest_count')\n",
        "\n",
        "#Sorting the values from 2006-01 to 2019-12\n",
        "daily_arrests_month=daily_arrests_month.sort_values(by='arrest_month',ascending=True)\n",
        "\n",
        "#Setting up the target values for the model\n",
        "Y=pd.DataFrame(daily_arrests_month['arrest_count'])\n",
        "Y.reset_index(drop=True,inplace=True)\n",
        "\n",
        "#Dropping the arrest_count column from daily_arrests_month dataframe because we dont need that\n",
        "#in the features\n",
        "daily_arrests_month.drop(['arrest_count'],inplace=True,axis=1)\n",
        "\n",
        "#Adding an extra column in the daily_arrests_month dataframe\n",
        "daily_arrests_month['Rate']=df_un_clean['Rate']\n",
        "\n",
        "#Selecting the features\n",
        "#Our features are Arrest year month and Unemployment Rate\n",
        "X=pd.DataFrame(daily_arrests_month)\n",
        "X.reset_index(drop=True,inplace=True)\n",
        "\n",
        "#Taking only year\n",
        "X['arrest_month']=daily_arrests_month['arrest_month']\n",
        "X['arrest_month']=pd.to_datetime(X['arrest_month'])\n",
        "X['arrest_month']=X['arrest_month'].dt.year\n",
        "\n",
        "#Filling up the null values with the last value\n",
        "X['Rate']=X['Rate'].fillna(method ='bfill')"
      ],
      "metadata": {
        "id": "M__XaDtQARxk"
      },
      "id": "M__XaDtQARxk",
      "execution_count": null,
      "outputs": []
    },
    {
      "cell_type": "markdown",
      "source": [
        "# Below the LinearRegression model will calculate the future crime rate based on year and unemployment rate."
      ],
      "metadata": {
        "id": "RAP6Ef3DAYUV"
      },
      "id": "RAP6Ef3DAYUV"
    },
    {
      "cell_type": "code",
      "source": [
        "from sklearn.linear_model import LinearRegression \n",
        "from sklearn.model_selection import train_test_split\n",
        "import warnings\n",
        "warnings.filterwarnings('ignore')\n",
        "\n",
        "#Creating a linear Regression Model\n",
        "model = LinearRegression()\n",
        "X_train, X_test, Y_train, Y_test = train_test_split(X, Y,test_size=0.20)\n",
        "model.fit(X_train, Y_train)\n",
        "prediction= model.predict(X_test)\n",
        "Acc=model.score(X_test, Y_test)\n",
        "print (\"Accuracy={0:.2f}\".format(Acc))"
      ],
      "metadata": {
        "id": "MCaxF3V-AZmn",
        "outputId": "a012987c-bfa7-4f92-b26b-94b546b958a7",
        "colab": {
          "base_uri": "https://localhost:8080/"
        }
      },
      "id": "MCaxF3V-AZmn",
      "execution_count": null,
      "outputs": [
        {
          "output_type": "stream",
          "name": "stdout",
          "text": [
            "Accuracy=0.62\n"
          ]
        }
      ]
    },
    {
      "cell_type": "code",
      "source": [
        "def Linear_prediction(year,rate):\n",
        "    import math\n",
        "    pred=(math.ceil(abs(model.predict([[year,rate]]))))*12\n",
        "    st='In the year of '+str(year)+ ' if the average unemployment rate of NYC is '+str(rate*100)+'% then there will be '+str(pred)+' crime'\n",
        "    return st\n",
        "print(Linear_prediction(2045,.01))\n",
        "print(Linear_prediction(2045,.88))"
      ],
      "metadata": {
        "id": "AJBlefkNAeUc",
        "outputId": "ddfe34fc-319d-4c90-9855-e7947b2b6e95",
        "colab": {
          "base_uri": "https://localhost:8080/"
        }
      },
      "id": "AJBlefkNAeUc",
      "execution_count": null,
      "outputs": [
        {
          "output_type": "stream",
          "name": "stdout",
          "text": [
            "In the year of 2045 if the average unemployment rate of NYC is 1.0% then there will be 55668 crime\n",
            "In the year of 2045 if the average unemployment rate of NYC is 88.0% then there will be 154920 crime\n"
          ]
        }
      ]
    },
    {
      "cell_type": "markdown",
      "source": [
        "## So based on our model prediction, the crime rate will rise, if the unemployment rate rises."
      ],
      "metadata": {
        "id": "T93wyaEsAghc"
      },
      "id": "T93wyaEsAghc"
    },
    {
      "cell_type": "code",
      "source": [
        "fig = plt.figure()\n",
        "plt.scatter(Y_test,prediction)\n",
        "fig.suptitle('test vs prediction', fontsize=20)            \n",
        "plt.xlabel('Y_test', fontsize=18)                          \n",
        "plt.ylabel('prediction', fontsize=16)   "
      ],
      "metadata": {
        "id": "HwnHW1pJAhIa",
        "outputId": "9c1bac5c-e58e-4050-b51b-20660de2b294",
        "colab": {
          "base_uri": "https://localhost:8080/",
          "height": 333
        }
      },
      "id": "HwnHW1pJAhIa",
      "execution_count": null,
      "outputs": [
        {
          "output_type": "execute_result",
          "data": {
            "text/plain": [
              "Text(0, 0.5, 'prediction')"
            ]
          },
          "metadata": {},
          "execution_count": 8
        },
        {
          "output_type": "display_data",
          "data": {
            "image/png": "[encoded data removed]",
            "text/plain": [
              "<Figure size 432x288 with 1 Axes>"
            ]
          },
          "metadata": {
            "needs_background": "light"
          }
        }
      ]
    }
  ]
}