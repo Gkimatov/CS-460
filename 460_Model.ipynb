{
  "nbformat": 4,
  "nbformat_minor": 5,
  "metadata": {
    "kernelspec": {
      "display_name": "Python 3",
      "language": "python",
      "name": "python3"
    },
    "language_info": {
      "codemirror_mode": {
        "name": "ipython",
        "version": 3
      },
      "file_extension": ".py",
      "mimetype": "text/x-python",
      "name": "python",
      "nbconvert_exporter": "python",
      "pygments_lexer": "ipython3",
      "version": "3.6.13"
    },
    "colab": {
      "name": "460_Model.ipynb",
      "provenance": [],
      "collapsed_sections": [],
      "include_colab_link": true
    }
  },
  "cells": [
    {
      "cell_type": "markdown",
      "metadata": {
        "id": "view-in-github",
        "colab_type": "text"
      },
      "source": [
        "<a href=\"https://colab.research.google.com/github/Gkimatov/CS-460/blob/main/460_Model.ipynb\" target=\"_parent\"><img src=\"https://colab.research.google.com/assets/colab-badge.svg\" alt=\"Open In Colab\"/></a>"
      ]
    },
    {
      "cell_type": "code",
      "metadata": {
        "id": "346a54ac"
      },
      "source": [
        "from datetime import datetime as dt\n",
        "import numpy as np \n",
        "import pandas as pd\n",
        "import seaborn as sns\n",
        "import matplotlib.pyplot as plt\n",
        "import math"
      ],
      "id": "346a54ac",
      "execution_count": null,
      "outputs": []
    },
    {
      "cell_type": "code",
      "metadata": {
        "id": "Ha3dpNvQiYU_",
        "outputId": "81953928-a72e-4067-84aa-a0371f4d3fce",
        "colab": {
          "base_uri": "https://localhost:8080/"
        }
      },
      "source": [
        "#this command will download the original file\n",
        "!gdown --id 1es5kvNIhxMnw0nSFrWAZskxiVECzkvkG"
      ],
      "id": "Ha3dpNvQiYU_",
      "execution_count": null,
      "outputs": [
        {
          "output_type": "stream",
          "name": "stdout",
          "text": [
            "Downloading...\n",
            "From: https://drive.google.com/uc?id=1es5kvNIhxMnw0nSFrWAZskxiVECzkvkG\n",
            "To: /content/NYC_data_clean.csv\n",
            "100% 278M/278M [00:02<00:00, 120MB/s]\n"
          ]
        }
      ]
    },
    {
      "cell_type": "code",
      "metadata": {
        "id": "8S_Ta2Sniceg",
        "outputId": "53824455-aecb-4c84-d1ca-8783d3ff8414",
        "colab": {
          "base_uri": "https://localhost:8080/"
        }
      },
      "source": [
        " #this command will download the unemployment data file in NYC\n",
        " !gdown --id 19enx0upJXRlvQYCPzg5zqgG-AfKrgfQY"
      ],
      "id": "8S_Ta2Sniceg",
      "execution_count": null,
      "outputs": [
        {
          "output_type": "stream",
          "name": "stdout",
          "text": [
            "Downloading...\n",
            "From: https://drive.google.com/uc?id=19enx0upJXRlvQYCPzg5zqgG-AfKrgfQY\n",
            "To: /content/NYC_Unemployment.csv\n",
            "\r  0% 0.00/3.27k [00:00<?, ?B/s]\r100% 3.27k/3.27k [00:00<00:00, 5.22MB/s]\n"
          ]
        }
      ]
    },
    {
      "cell_type": "code",
      "source": [
        "#Importing the data\n",
        "\n",
        "df_un_clean=pd.read_csv('NYC_Unemployment.csv')\n",
        "df_clean=pd.read_csv('NYC_data_clean.csv')"
      ],
      "metadata": {
        "id": "LWRYulmjAP3d"
      },
      "id": "LWRYulmjAP3d",
      "execution_count": null,
      "outputs": []
    },
    {
      "cell_type": "markdown",
      "source": [
        "# Linear Regression by crime rate per year"
      ],
      "metadata": {
        "id": "D_fw7j38qmY0"
      },
      "id": "D_fw7j38qmY0"
    },
    {
      "cell_type": "code",
      "source": [
        "from sklearn.linear_model import LinearRegression \n",
        "from sklearn.model_selection import train_test_split\n",
        "from sklearn.metrics import mean_squared_error, r2_score\n",
        "import matplotlib.pyplot as plt"
      ],
      "metadata": {
        "id": "QaD_Q8LIqkNk"
      },
      "id": "QaD_Q8LIqkNk",
      "execution_count": 56,
      "outputs": []
    },
    {
      "cell_type": "code",
      "source": [
        "# make a dataframe to have crime rate per year (# of arrests / # NYC population) * 100000)\n",
        "nyc_pop = 8175000 # according to 2010 census\n",
        "per_100k = 100000\n",
        "\n",
        "yearly_crime_rate = (((arrest_year.value_counts(ascending=True))/nyc_pop)*per_100k).rename_axis('arrest_year').reset_index(name='arrest_count')\n",
        "yearly_crime_rate"
      ],
      "metadata": {
        "colab": {
          "base_uri": "https://localhost:8080/",
          "height": 483
        },
        "id": "y3FTFH0gqsmL",
        "outputId": "95ee9e64-e99b-4bfe-9dcf-c972958a830d"
      },
      "id": "y3FTFH0gqsmL",
      "execution_count": 57,
      "outputs": [
        {
          "output_type": "execute_result",
          "data": {
            "text/html": [
              "<div>\n",
              "<style scoped>\n",
              "    .dataframe tbody tr th:only-of-type {\n",
              "        vertical-align: middle;\n",
              "    }\n",
              "\n",
              "    .dataframe tbody tr th {\n",
              "        vertical-align: top;\n",
              "    }\n",
              "\n",
              "    .dataframe thead th {\n",
              "        text-align: right;\n",
              "    }\n",
              "</style>\n",
              "<table border=\"1\" class=\"dataframe\">\n",
              "  <thead>\n",
              "    <tr style=\"text-align: right;\">\n",
              "      <th></th>\n",
              "      <th>arrest_year</th>\n",
              "      <th>arrest_count</th>\n",
              "    </tr>\n",
              "  </thead>\n",
              "  <tbody>\n",
              "    <tr>\n",
              "      <th>0</th>\n",
              "      <td>2019</td>\n",
              "      <td>1980.159021</td>\n",
              "    </tr>\n",
              "    <tr>\n",
              "      <th>1</th>\n",
              "      <td>2018</td>\n",
              "      <td>2261.284404</td>\n",
              "    </tr>\n",
              "    <tr>\n",
              "      <th>2</th>\n",
              "      <td>2017</td>\n",
              "      <td>2757.418960</td>\n",
              "    </tr>\n",
              "    <tr>\n",
              "      <th>3</th>\n",
              "      <td>2016</td>\n",
              "      <td>3067.217125</td>\n",
              "    </tr>\n",
              "    <tr>\n",
              "      <th>4</th>\n",
              "      <td>2015</td>\n",
              "      <td>3172.269113</td>\n",
              "    </tr>\n",
              "    <tr>\n",
              "      <th>5</th>\n",
              "      <td>2006</td>\n",
              "      <td>3521.174312</td>\n",
              "    </tr>\n",
              "    <tr>\n",
              "      <th>6</th>\n",
              "      <td>2013</td>\n",
              "      <td>3648.990826</td>\n",
              "    </tr>\n",
              "    <tr>\n",
              "      <th>7</th>\n",
              "      <td>2012</td>\n",
              "      <td>3714.948012</td>\n",
              "    </tr>\n",
              "    <tr>\n",
              "      <th>8</th>\n",
              "      <td>2014</td>\n",
              "      <td>3720.795107</td>\n",
              "    </tr>\n",
              "    <tr>\n",
              "      <th>9</th>\n",
              "      <td>2007</td>\n",
              "      <td>3837.785933</td>\n",
              "    </tr>\n",
              "    <tr>\n",
              "      <th>10</th>\n",
              "      <td>2008</td>\n",
              "      <td>3908.281346</td>\n",
              "    </tr>\n",
              "    <tr>\n",
              "      <th>11</th>\n",
              "      <td>2009</td>\n",
              "      <td>3952.489297</td>\n",
              "    </tr>\n",
              "    <tr>\n",
              "      <th>12</th>\n",
              "      <td>2010</td>\n",
              "      <td>3959.559633</td>\n",
              "    </tr>\n",
              "    <tr>\n",
              "      <th>13</th>\n",
              "      <td>2011</td>\n",
              "      <td>3983.730887</td>\n",
              "    </tr>\n",
              "  </tbody>\n",
              "</table>\n",
              "</div>"
            ],
            "text/plain": [
              "    arrest_year  arrest_count\n",
              "0          2019   1980.159021\n",
              "1          2018   2261.284404\n",
              "2          2017   2757.418960\n",
              "3          2016   3067.217125\n",
              "4          2015   3172.269113\n",
              "5          2006   3521.174312\n",
              "6          2013   3648.990826\n",
              "7          2012   3714.948012\n",
              "8          2014   3720.795107\n",
              "9          2007   3837.785933\n",
              "10         2008   3908.281346\n",
              "11         2009   3952.489297\n",
              "12         2010   3959.559633\n",
              "13         2011   3983.730887"
            ]
          },
          "metadata": {},
          "execution_count": 57
        }
      ]
    },
    {
      "cell_type": "code",
      "source": [
        "# get feature & target from dataframe\n",
        "feature = yearly_crime_rate[['arrest_year']]\n",
        "target = yearly_crime_rate[['arrest_count']]\n",
        "\n",
        "# split data into training & test data\n",
        "X_train, X_test, y_train, y_test = train_test_split(feature, target, test_size=0.25)"
      ],
      "metadata": {
        "id": "pA7d7sl-qv-g"
      },
      "id": "pA7d7sl-qv-g",
      "execution_count": 58,
      "outputs": []
    },
    {
      "cell_type": "code",
      "source": [
        "reg = LinearRegression()\n",
        "\n",
        "reg.fit(X_train, y_train)\n",
        "\n",
        "y_pred = reg.predict(X_test)\n",
        "\n",
        "print('Coefficients: ', reg.coef_)\n",
        "print('Mean squared error: {}'.format(mean_squared_error(y_test, y_pred)))\n",
        "print('Coefficient of determination: {}'.format(r2_score(y_test, y_pred)))\n",
        "print(\"Score gotten from cross-validation:\",reg.score(X_test,y_test))\n",
        "\n",
        "plt.scatter(X_test,y_test, color='black')\n",
        "plt.plot(X_test, y_pred, color='blue', linewidth=3)\n",
        "\n",
        "plt.xticks(())\n",
        "plt.yticks(())\n",
        "\n",
        "plt.show()"
      ],
      "metadata": {
        "colab": {
          "base_uri": "https://localhost:8080/",
          "height": 320
        },
        "id": "kLnbvVZHq08w",
        "outputId": "39057ae0-954b-4399-d44d-cc08da051fb3"
      },
      "id": "kLnbvVZHq08w",
      "execution_count": 61,
      "outputs": [
        {
          "output_type": "stream",
          "name": "stdout",
          "text": [
            "Coefficients:  [[-130.10793492]]\n",
            "Mean squared error: 33443.4335989199\n",
            "Coefficient of determination: 0.8296068736403752\n",
            "Score gotten from cross-validation: 0.8296068736403752\n"
          ]
        },
        {
          "output_type": "display_data",
          "data": {
            "image/png": "[encoded data removed]",
            "text/plain": [
              "<Figure size 432x288 with 1 Axes>"
            ]
          },
          "metadata": {}
        }
      ]
    },
    {
      "cell_type": "code",
      "source": [
        "#Mapping the data values from object type to integer\n",
        "df_un_clean['Month'] = df_un_clean['Month'].map({ 'January': 1,\n",
        "                                                   'February': 2,\n",
        "                                                   'March': 3,\n",
        "                                                   'April': 4,\n",
        "                                                    'May':5,\n",
        "                                                     'June':6,\n",
        "                                                     'July':7,\n",
        "                                                     'August':8,\n",
        "                                                     'September':9,\n",
        "                                                     'October':10,\n",
        "                                                     'November':11,\n",
        "                                                     'December':12})\n",
        "#Dropping the first 12 rows because those are values from 2005\n",
        "#But we don't have arrest data from 2005 in our main dataset\n",
        "\n",
        "df_un_clean=df_un_clean.drop(range(0,12))\n",
        "\n",
        "#Converting the datatype from object to datetime\n",
        "df_clean['arrest_date'] = pd.to_datetime(df_clean['arrest_date'])\n",
        "\n",
        "#Extracting the year and month\n",
        "df_clean['arrest_date'] = df_clean['arrest_date'].dt.strftime('%Y-%m')\n",
        "\n",
        "#Counting the arrests based on individual month and year\n",
        "daily_arrests_month = df_clean['arrest_date'].value_counts().rename_axis('arrest_month').reset_index(name='arrest_count')\n",
        "\n",
        "#Sorting the values from 2006-01 to 2019-12\n",
        "daily_arrests_month=daily_arrests_month.sort_values(by='arrest_month',ascending=True)\n",
        "\n",
        "#Setting up the target values for the model\n",
        "Y=pd.DataFrame(daily_arrests_month['arrest_count'])\n",
        "Y.reset_index(drop=True,inplace=True)\n",
        "\n",
        "#Dropping the arrest_count column from daily_arrests_month dataframe because we dont need that\n",
        "#in the features\n",
        "daily_arrests_month.drop(['arrest_count'],inplace=True,axis=1)\n",
        "\n",
        "#Adding an extra column in the daily_arrests_month dataframe\n",
        "daily_arrests_month['Rate']=df_un_clean['Rate']\n",
        "\n",
        "#Selecting the features\n",
        "#Our features are Arrest year month and Unemployment Rate\n",
        "X=pd.DataFrame(daily_arrests_month)\n",
        "X.reset_index(drop=True,inplace=True)\n",
        "\n",
        "#Taking only year\n",
        "X['arrest_month']=daily_arrests_month['arrest_month']\n",
        "X['arrest_month']=pd.to_datetime(X['arrest_month'])\n",
        "X['arrest_month']=X['arrest_month'].dt.year\n",
        "\n",
        "#Filling up the null values with the last value\n",
        "X['Rate']=X['Rate'].fillna(method ='bfill')"
      ],
      "metadata": {
        "id": "M__XaDtQARxk"
      },
      "id": "M__XaDtQARxk",
      "execution_count": null,
      "outputs": []
    },
    {
      "cell_type": "markdown",
      "source": [
        "# Below the LinearRegression model will calculate the future crime rate based on year and unemployment rate."
      ],
      "metadata": {
        "id": "RAP6Ef3DAYUV"
      },
      "id": "RAP6Ef3DAYUV"
    },
    {
      "cell_type": "code",
      "source": [
        "from sklearn.linear_model import LinearRegression \n",
        "from sklearn.model_selection import train_test_split\n",
        "import warnings\n",
        "warnings.filterwarnings('ignore')\n",
        "\n",
        "#Creating a linear Regression Model\n",
        "model = LinearRegression()\n",
        "X_train, X_test, Y_train, Y_test = train_test_split(X, Y,test_size=0.20)\n",
        "model.fit(X_train, Y_train)\n",
        "prediction= model.predict(X_test)\n",
        "Acc=model.score(X_test, Y_test)\n",
        "print (\"Accuracy={0:.2f}\".format(Acc))"
      ],
      "metadata": {
        "id": "MCaxF3V-AZmn",
        "outputId": "1fbbb024-1576-4d82-d39e-daf1649df08a",
        "colab": {
          "base_uri": "https://localhost:8080/"
        }
      },
      "id": "MCaxF3V-AZmn",
      "execution_count": null,
      "outputs": [
        {
          "output_type": "stream",
          "name": "stdout",
          "text": [
            "Accuracy=0.60\n"
          ]
        }
      ]
    },
    {
      "cell_type": "code",
      "source": [
        "print('In the year of 2045, if the average unemployment rate of NYC is 88% then there will be',math.ceil(abs(model.predict([[2045,0.88]]))),'crime')\n",
        "\n",
        "print('In the year of 2045, if the average unemployment rate of NYC is 1% then there will be',math.ceil(abs(model.predict([[2045,0.01]]))),'crime')\n"
      ],
      "metadata": {
        "id": "AJBlefkNAeUc",
        "outputId": "babf223d-d9f7-486f-e182-85c9249a2bcc",
        "colab": {
          "base_uri": "https://localhost:8080/"
        }
      },
      "id": "AJBlefkNAeUc",
      "execution_count": null,
      "outputs": [
        {
          "output_type": "stream",
          "name": "stdout",
          "text": [
            "In the year of 2045, if the average unemployment rate of NYC is 88% then there will be 19553 crime\n",
            "In the year of 2045, if the average unemployment rate of NYC is 1% then there will be 4750 crime\n"
          ]
        }
      ]
    },
    {
      "cell_type": "markdown",
      "source": [
        "## So based on our model prediction, the crime rate will rise, if the unemployment rate rises."
      ],
      "metadata": {
        "id": "T93wyaEsAghc"
      },
      "id": "T93wyaEsAghc"
    },
    {
      "cell_type": "code",
      "source": [
        "fig = plt.figure()\n",
        "plt.scatter(Y_test,prediction)\n",
        "fig.suptitle('test vs prediction', fontsize=20)            \n",
        "plt.xlabel('Y_test', fontsize=18)                          \n",
        "plt.ylabel('prediction', fontsize=16)   "
      ],
      "metadata": {
        "id": "HwnHW1pJAhIa",
        "outputId": "1c65852e-973d-4635-81b3-45be4e5e6583",
        "colab": {
          "base_uri": "https://localhost:8080/",
          "height": 334
        }
      },
      "id": "HwnHW1pJAhIa",
      "execution_count": null,
      "outputs": [
        {
          "output_type": "execute_result",
          "data": {
            "text/plain": [
              "Text(0, 0.5, 'prediction')"
            ]
          },
          "metadata": {},
          "execution_count": 12
        },
        {
          "output_type": "display_data",
          "data": {
            "image/png": "[encoded data removed]",
            "text/plain": [
              "<Figure size 432x288 with 1 Axes>"
            ]
          },
          "metadata": {
            "needs_background": "light"
          }
        }
      ]
    }
  ]
}